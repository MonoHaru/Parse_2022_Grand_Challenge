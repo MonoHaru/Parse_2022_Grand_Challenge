{
 "cells": [
  {
   "cell_type": "code",
   "execution_count": 4,
   "metadata": {
    "pycharm": {
     "name": "#%%\n"
    }
   },
   "outputs": [],
   "source": [
    "import os\n",
    "os.environ['KMP_DUPLICATE_LIB_OK']='True'\n",
    "import random, torch\n",
    "import matplotlib.pyplot as plt\n",
    "import torchio as tio\n",
    "import nibabel as nib\n"
   ]
  },
  {
   "cell_type": "markdown",
   "metadata": {
    "pycharm": {
     "name": "#%% md\n"
    }
   },
   "source": [
    "https://colab.research.google.com/github/fepegar/torchio-notebooks/blob/main/notebooks/TorchIO_tutorial.ipynb#scrollTo=-YLjzK0CP6WK"
   ]
  },
  {
   "cell_type": "code",
   "execution_count": 5,
   "metadata": {
    "pycharm": {
     "name": "#%%\n"
    }
   },
   "outputs": [],
   "source": [
    "args = dict()\n",
    "args['base_path'] = '../data/train'"
   ]
  },
  {
   "cell_type": "code",
   "execution_count": 6,
   "metadata": {
    "pycharm": {
     "name": "#%%\n"
    }
   },
   "outputs": [
    {
     "name": "stdout",
     "output_type": "stream",
     "text": [
      "PA000245\n"
     ]
    }
   ],
   "source": [
    "fn_list = sorted(os.listdir(args['base_path']))\n",
    "fn_list.remove('keeper')\n",
    "fn = random.choice(fn_list)\n",
    "print(fn)"
   ]
  },
  {
   "cell_type": "code",
   "execution_count": 8,
   "metadata": {
    "pycharm": {
     "name": "#%%\n"
    }
   },
   "outputs": [
    {
     "name": "stdout",
     "output_type": "stream",
     "text": [
      "../data/train\\PA000245\\image\\PA000245.nii.gz\n",
      "../data/train\\PA000245\\label\\PA000245.nii.gz\n"
     ]
    }
   ],
   "source": [
    "img_fn = os.path.join(args['base_path'], fn, 'image', fn + '.nii.gz')\n",
    "label_fn = os.path.join(args['base_path'], fn, 'label', fn + '.nii.gz')\n",
    "print(img_fn)\n",
    "print(label_fn)\n",
    "assert os.path.isfile(img_fn)\n",
    "assert os.path.isfile(label_fn)"
   ]
  },
  {
   "cell_type": "code",
   "execution_count": 9,
   "metadata": {
    "pycharm": {
     "name": "#%%\n"
    }
   },
   "outputs": [],
   "source": [
    "def read_nifti(path_to_nifti):\n",
    "    return nib.load((path_to_nifti)).get_fdata()"
   ]
  },
  {
   "cell_type": "code",
   "execution_count": 10,
   "metadata": {
    "pycharm": {
     "name": "#%%\n"
    }
   },
   "outputs": [],
   "source": [
    "img = read_nifti(img_fn)\n",
    "label = read_nifti(label_fn)"
   ]
  },
  {
   "cell_type": "code",
   "execution_count": 11,
   "metadata": {
    "pycharm": {
     "name": "#%%\n"
    }
   },
   "outputs": [],
   "source": [
    "def vis(s):\n",
    "    plt.figure(figsize=(14, 10))\n",
    "    plt.subplot(1,3,1)\n",
    "    plt.imshow(img[:, :, s], cmap='gray')\n",
    "    plt.subplot(1,3,2)\n",
    "    plt.imshow(label[:, :, s], cmap='gray')\n",
    "    plt.subplot(1,3,3)\n",
    "    plt.imshow(img[:, :, s], cmap='gray')\n",
    "    plt.imshow(label[:, :, s], alpha=0.6, cmap='Greens')\n",
    "    plt.tight_layout()\n",
    "    plt.show()"
   ]
  },
  {
   "cell_type": "code",
   "execution_count": 12,
   "metadata": {
    "pycharm": {
     "name": "#%%\n"
    }
   },
   "outputs": [
    {
     "data": {
      "application/vnd.jupyter.widget-view+json": {
       "model_id": "99b13a16713e4b0aacd2f5557e862615",
       "version_major": 2,
       "version_minor": 0
      },
      "text/plain": [
       "interactive(children=(IntSlider(value=75, description='s', max=322), Output()), _dom_classes=('widget-interact…"
      ]
     },
     "metadata": {},
     "output_type": "display_data"
    }
   ],
   "source": [
    "from ipywidgets import interact\n",
    "import ipywidgets as widgets\n",
    "\n",
    "interact(vis, ｓ=widgets.IntSlider(min=0, max=img.shape[-1]-1, step=1, value=75));"
   ]
  },
  {
   "cell_type": "code",
   "execution_count": 13,
   "metadata": {
    "pycharm": {
     "name": "#%%\n"
    }
   },
   "outputs": [],
   "source": [
    "transforms =  tio.Compose([\n",
    "    tio.ZNormalization(p=1),\n",
    "    tio.RandomFlip(\n",
    "        axes=(0, 1, 2),\n",
    "        p=0,\n",
    "    ),\n",
    "    tio.RandomNoise(\n",
    "        mean=0,\n",
    "        std=(0, 0.25),\n",
    "        p=0,\n",
    "    ),\n",
    "    tio.RandomAffine(\n",
    "        scales=0.0,\n",
    "        degrees=15,\n",
    "        translation=5,\n",
    "        isotropic=True,\n",
    "        center='image' ## rotation around ccenter of image\n",
    "    )\n",
    "]) "
   ]
  },
  {
   "cell_type": "code",
   "execution_count": 14,
   "metadata": {
    "pycharm": {
     "name": "#%%\n"
    }
   },
   "outputs": [
    {
     "name": "stdout",
     "output_type": "stream",
     "text": [
      "torch.Size([1, 512, 512, 323])\n",
      "torch.Size([1, 512, 512, 323])\n"
     ]
    }
   ],
   "source": [
    "img_t = torch.as_tensor(img, dtype=torch.float, device='cpu').unsqueeze(dim=0)\n",
    "label_t = torch.as_tensor(label, dtype=torch.float, device='cpu').unsqueeze(dim=0)\n",
    "print(img_t.shape)\n",
    "print(label_t.shape)"
   ]
  },
  {
   "cell_type": "code",
   "execution_count": 15,
   "metadata": {
    "pycharm": {
     "name": "#%%\n"
    }
   },
   "outputs": [],
   "source": [
    "subject = tio.Subject(\n",
    "    image=tio.ScalarImage(tensor=img_t),\n",
    "    mask=tio.LabelMap(tensor=label_t)\n",
    ")"
   ]
  },
  {
   "cell_type": "code",
   "execution_count": 16,
   "metadata": {
    "pycharm": {
     "name": "#%%\n"
    }
   },
   "outputs": [],
   "source": [
    "result = transforms(subject)"
   ]
  },
  {
   "cell_type": "code",
   "execution_count": 17,
   "metadata": {
    "pycharm": {
     "name": "#%%\n"
    }
   },
   "outputs": [],
   "source": [
    "tf_img = result['image'][tio.DATA].squeeze().detach().cpu().numpy()\n",
    "tf_label = result['mask'][tio.DATA].squeeze().detach().cpu().numpy()"
   ]
  },
  {
   "cell_type": "code",
   "execution_count": 18,
   "metadata": {
    "pycharm": {
     "name": "#%%\n"
    }
   },
   "outputs": [],
   "source": [
    "def vis_t(s):\n",
    "    plt.figure(figsize=(14, 10))\n",
    "    plt.subplot(1,3,1)\n",
    "    plt.imshow(tf_img[:, :, s], cmap='gray')\n",
    "    plt.subplot(1,3,2)\n",
    "    plt.imshow(tf_label[:, :, s], cmap='gray')\n",
    "    plt.subplot(1,3,3)\n",
    "    plt.imshow(tf_img[:, :, s], cmap='gray')\n",
    "    plt.imshow(tf_label[:, :, s], alpha=0.6, cmap='Greens')\n",
    "    plt.tight_layout()\n",
    "    plt.show()"
   ]
  },
  {
   "cell_type": "code",
   "execution_count": 19,
   "metadata": {
    "pycharm": {
     "name": "#%%\n"
    }
   },
   "outputs": [
    {
     "data": {
      "application/vnd.jupyter.widget-view+json": {
       "model_id": "8d069ecbda804632a5805b813614dad8",
       "version_major": 2,
       "version_minor": 0
      },
      "text/plain": [
       "interactive(children=(IntSlider(value=75, description='s', max=322), Output()), _dom_classes=('widget-interact…"
      ]
     },
     "metadata": {},
     "output_type": "display_data"
    }
   ],
   "source": [
    "interact(vis_t, ｓ=widgets.IntSlider(min=0, max=tf_img.shape[-1]-1, step=1, value=75));"
   ]
  }
 ],
 "metadata": {
  "interpreter": {
   "hash": "4db7c6183c17f3ebdf6741d4dccaa9f24343c77327ebeb260412ef88c4e8259d"
  },
  "kernelspec": {
   "display_name": "Python 3.8.5 ('hyunseoki')",
   "language": "python",
   "name": "python3"
  },
  "language_info": {
   "codemirror_mode": {
    "name": "ipython",
    "version": 3
   },
   "file_extension": ".py",
   "mimetype": "text/x-python",
   "name": "python",
   "nbconvert_exporter": "python",
   "pygments_lexer": "ipython3",
   "version": "3.8.5"
  },
  "orig_nbformat": 4
 },
 "nbformat": 4,
 "nbformat_minor": 2
}